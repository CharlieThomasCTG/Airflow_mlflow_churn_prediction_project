{
 "cells": [
  {
   "cell_type": "code",
   "execution_count": null,
   "id": "3b373ffd-a12d-4b9b-9077-a1c07e5608a3",
   "metadata": {},
   "outputs": [],
   "source": [
    "# function\n",
    "import os\n",
    "import sys\n",
    "\n",
    "new_directory = \"E:/airflow/airflow\"\n",
    "current_directory = os.getcwd()\n",
    "scripts_path = os.path.abspath(os.path.join(os.getcwd(), '../scripts'))\n",
    "\n",
    "def change_directory(current_directory, new_directory,scripts_path):\n",
    "    # Get the current working directory\n",
    "    print(f'Current directory: {current_directory}')\n",
    "    # Define the path to change to\n",
    "    new_directory = \"E:/airflow/airflow\"\n",
    "    try:\n",
    "        # Change the current working directory\n",
    "        os.chdir(new_directory)\n",
    "        # Verify the change\n",
    "        current_directory = os.getcwd()\n",
    "        print(f'Current directory changed to: {current_directory}')\n",
    "    except FileNotFoundError:\n",
    "        print(f'Error: The directory \"{new_directory}\" does not exist.')\n",
    "    except PermissionError:\n",
    "        print(f'Error: Permission denied to change to \"{new_directory}\".')\n",
    "    except Exception as e:\n",
    "        print(f'An unexpected error occurred: {e}')\n",
    "    # Add the scripts directory to the Python path\n",
    "    sys.path.append(scripts_path)\n",
    "\n",
    "    \n",
    "change_directory(current_directory, new_directory, scripts_path)"
   ]
  },
  {
   "cell_type": "code",
   "execution_count": null,
   "id": "9518e133-a2a4-411b-91f0-b25d82f2166f",
   "metadata": {},
   "outputs": [],
   "source": [
    "# Setting up all directory\n",
    "root_folder = \"E:/airflow/airflow\"\n",
    "database_path = root_folder+\"/database/\"\n",
    "data_directory = root_folder+\"/data/raw/\"\n",
    "data_profile_path = root_folder+\"/data/profile_report/\"\n",
    "intermediate_data_path = root_folder+\"/data/interim/\"\n",
    "final_processed_data_path = root_folder+\"/data/processed/\"\n",
    "\n",
    "old_data_directory = root_folder+\"/data/raw/\"\n",
    "new_data_directory = root_folder+\"/data/new/\"\n",
    "intermediate_path = root_folder+\"/data/interim/\"\n",
    "\n",
    "\n",
    "# Database\n",
    "db_path = root_folder+\"/database/\"\n",
    "db_file_name = \"feature_store_v01.db\"\n",
    "drfit_db_name = \"drift_db_name.db\"\n",
    "date_columns = ['registration_init_time','transaction_date_min','transaction_date_max','membership_expire_date_max','last_login']\n",
    "drift_db_name = \"drift_db_name.db\"\n",
    "\n",
    "# Mlflow\n",
    "mlflow_tracking_uri = \"http://Localhost:6006\"\n",
    "ml_flow_model_path = root_folder+ \"/mlruns/2/cb66e22bcbf74ded99dc219eb29e7609/artifacts/models/\"\n",
    "ml_flow_path = root_folder+ \"/mlruns/2/cb66e22bcbf74ded99dc219eb29e7609\"\n",
    "\n",
    "run_on = \"old\" #\"old\"\n",
    "append=False\n",
    "date_transformation = False\n",
    "start_date = '2017-03-01'\n",
    "end_date = '2017-03-31'"
   ]
  },
  {
   "cell_type": "code",
   "execution_count": null,
   "id": "e10991e1-6b84-400e-8503-d5d3f63347fe",
   "metadata": {},
   "outputs": [],
   "source": [
    "import warnings\n",
    "warnings.filterwarnings(\"ignore\")"
   ]
  },
  {
   "cell_type": "code",
   "execution_count": null,
   "id": "2c60882d-ee30-4f50-9a6c-da770390ee41",
   "metadata": {},
   "outputs": [],
   "source": [
    "%matplotlib inline\n",
    "from scripts.utils import *\n",
    "import pandas as pd\n",
    "import numpy as np\n",
    "import matplotlib.pyplot as plt\n",
    "import seaborn as sns\n",
    "import time\n",
    "from datetime import datetime\n",
    "from ydata_profiling import ProfileReport"
   ]
  },
  {
   "cell_type": "code",
   "execution_count": null,
   "id": "9e1aba2a-2a83-4900-93c1-1159ce918896",
   "metadata": {},
   "outputs": [],
   "source": [
    "%%time\n",
    "members_n, user_logs_n, transactions_n, train_n  = load_data( [\n",
    "                                                            f\"{new_data_directory}members_profile_new.csv\",\n",
    "                                                            f\"{new_data_directory}user_logs_new.csv\",\n",
    "                                                            f\"{new_data_directory}transactions_logs_new.csv\",\n",
    "                                                            f\"{new_data_directory}churn_logs_new.csv\"\n",
    "                                                            ]\n",
    "                                                          )"
   ]
  },
  {
   "cell_type": "code",
   "execution_count": null,
   "id": "81046292-fa9c-4246-8551-36e45af08da7",
   "metadata": {},
   "outputs": [],
   "source": [
    "print(members_n.shape)\n",
    "print(transactions_n.shape)\n",
    "print(user_logs_n.shape)\n",
    "print(train_n.shape)"
   ]
  },
  {
   "cell_type": "code",
   "execution_count": null,
   "id": "e236e6ab-4420-4fb0-89f7-ba2452ad0426",
   "metadata": {},
   "outputs": [],
   "source": [
    "user_logs_n['date'] = utils.fix_time_in_df(user_logs_n, 'date', expand=False)"
   ]
  },
  {
   "cell_type": "code",
   "execution_count": null,
   "id": "0f899328-434b-4366-a69f-147a93709e8b",
   "metadata": {},
   "outputs": [],
   "source": [
    "%%time\n",
    "members, user_logs, transactions, train  = utils.load_data( [\n",
    "                                                            f\"{data_directory}members_profile.csv\",\n",
    "                                                            f\"{data_directory}userlogs.csv\",\n",
    "                                                            f\"{data_directory}transactions_logs.csv\",\n",
    "                                                            f\"{data_directory}churn_logs.csv\"\n",
    "                                                            ]\n",
    "                                                          )"
   ]
  },
  {
   "cell_type": "code",
   "execution_count": null,
   "id": "f524b871-459d-4940-8058-84908b04e405",
   "metadata": {},
   "outputs": [],
   "source": [
    "print(members.shape)\n",
    "print(transactions.shape)\n",
    "print(user_logs.shape)\n",
    "print(train.shape)"
   ]
  },
  {
   "cell_type": "code",
   "execution_count": null,
   "id": "fc01becc-6eaa-443c-9101-10e3c1a1689a",
   "metadata": {},
   "outputs": [],
   "source": [
    "user_logs_n.head()"
   ]
  },
  {
   "cell_type": "code",
   "execution_count": null,
   "id": "296df411-84e8-48d7-91e3-5e20da13b6ba",
   "metadata": {},
   "outputs": [],
   "source": [
    "members_list = np.unique(list(members['msno']))"
   ]
  },
  {
   "cell_type": "code",
   "execution_count": null,
   "id": "ca95d9e3-b843-49ec-8cb7-0e6fd69e9857",
   "metadata": {},
   "outputs": [],
   "source": [
    "train_members_list = np.unique(list(train['msno']))"
   ]
  },
  {
   "cell_type": "code",
   "execution_count": null,
   "id": "4e84ffef-1708-438a-b05a-8a132015c302",
   "metadata": {},
   "outputs": [],
   "source": [
    "user_logs_n[(user_logs_n['date']>'2017-03-01') & \n",
    "            (user_logs_n['date']<'2017-03-31') &\n",
    "            (user_logs_n['msno'].isin(members_list)) & \n",
    "            (user_logs_n['msno'].isin(train_members_list))].shape"
   ]
  },
  {
   "cell_type": "code",
   "execution_count": null,
   "id": "2220dcb6-7891-453c-baa1-7db9621e7b93",
   "metadata": {},
   "outputs": [],
   "source": [
    "user_logs_n[(user_logs_n['date']>'2017-03-01') & \n",
    "            (user_logs_n['date']<'2017-03-31') &\n",
    "            (user_logs_n['msno'].isin(members_list)) & \n",
    "            (user_logs_n['msno'].isin(train_members_list))].to_csv(\"/home/data/new_append/user_logs_march.csv\",index=False)"
   ]
  },
  {
   "cell_type": "code",
   "execution_count": null,
   "id": "575111ec-e32b-4e8a-bdb1-9514c3c031e6",
   "metadata": {},
   "outputs": [],
   "source": [
    "%%time\n",
    "transactions_n['transaction_date'] = utils.fix_time_in_df(transactions_n, 'transaction_date', expand=False)\n",
    "transactions_n['membership_expire_date'] = utils.fix_time_in_df(transactions_n, 'membership_expire_date', expand=False)"
   ]
  },
  {
   "cell_type": "code",
   "execution_count": null,
   "id": "7f4e583b-b34d-4932-9135-7ea31d19b882",
   "metadata": {},
   "outputs": [],
   "source": [
    "transactions_n.head()"
   ]
  },
  {
   "cell_type": "code",
   "execution_count": null,
   "id": "851082b3-fbd2-428c-930d-cda3faf55180",
   "metadata": {},
   "outputs": [],
   "source": [
    "transactions_n[(transactions_n['transaction_date']>'2017-03-01') & (transactions_n['transaction_date']<'2017-03-31') & (transactions_n['membership_expire_date']<'2017-12-31')].to_csv(\"/home/data/new_append/transactions_logs_march.csv\",index=False)"
   ]
  },
  {
   "cell_type": "code",
   "execution_count": null,
   "id": "76939edd-cb9a-40d5-8d39-5c4d33536d58",
   "metadata": {},
   "outputs": [],
   "source": [
    "transactions_n[(transactions_n['transaction_date']>'2017-03-01') & \n",
    "               (transactions_n['transaction_date']<'2017-03-31') & \n",
    "               (transactions_n['membership_expire_date']<'2017-12-31') & \n",
    "               (transactions_n['msno'].isin(members_list)) & \n",
    "               (transactions_n['msno'].isin(train_members_list))].shape"
   ]
  },
  {
   "cell_type": "code",
   "execution_count": null,
   "id": "94fa2db1-7938-44c2-a4c1-ba1e291c0f51",
   "metadata": {},
   "outputs": [],
   "source": [
    "transactions_n[(transactions_n['transaction_date']>'2017-03-01') & \n",
    "               (transactions_n['transaction_date']<'2017-03-31') & \n",
    "               (transactions_n['membership_expire_date']<'2017-12-31') & \n",
    "               (transactions_n['msno'].isin(members_list)) & \n",
    "               (transactions_n['msno'].isin(train_members_list))].to_csv(\"/home/data/new_append/transactions_logs_march.csv\",index=False)"
   ]
  },
  {
   "cell_type": "code",
   "execution_count": null,
   "id": "6f3e9f4a-91e0-49fc-9856-bc25f9be5a18",
   "metadata": {},
   "outputs": [],
   "source": []
  },
  {
   "cell_type": "code",
   "execution_count": null,
   "id": "b37b1dda-9c95-42ee-80fa-c86227e39d53",
   "metadata": {},
   "outputs": [],
   "source": []
  },
  {
   "cell_type": "code",
   "execution_count": null,
   "id": "ba6f98ff-76ce-4b62-aea0-a88ad65ba01c",
   "metadata": {},
   "outputs": [],
   "source": [
    "march_user_logs = user_logs_n[(user_logs_n['date']>'2017-03-01') & \n",
    "            (user_logs_n['date']<'2017-03-31') &\n",
    "            (user_logs_n['msno'].isin(members_list)) & \n",
    "            (user_logs_n['msno'].isin(train_members_list))]"
   ]
  },
  {
   "cell_type": "code",
   "execution_count": null,
   "id": "ab5d92b1-d92c-4e12-9ffe-4081a153f002",
   "metadata": {},
   "outputs": [],
   "source": [
    "march_transactions = transactions_n[(transactions_n['transaction_date']>'2017-03-01') & \n",
    "               (transactions_n['transaction_date']<'2017-03-31') & \n",
    "               (transactions_n['membership_expire_date']<'2017-12-31') & \n",
    "               (transactions_n['msno'].isin(members_list)) & \n",
    "               (transactions_n['msno'].isin(train_members_list))]"
   ]
  },
  {
   "cell_type": "code",
   "execution_count": null,
   "id": "20e1a724-c4e6-43c2-b89e-cfcd278add95",
   "metadata": {},
   "outputs": [],
   "source": []
  },
  {
   "cell_type": "code",
   "execution_count": null,
   "id": "55f2854d-33df-4fa5-b47f-c132c9ad436f",
   "metadata": {},
   "outputs": [],
   "source": [
    "user_logs_updated = user_logs.append(march_user_logs)"
   ]
  },
  {
   "cell_type": "code",
   "execution_count": null,
   "id": "5d463a64-6430-4459-87b1-35233fcc8582",
   "metadata": {},
   "outputs": [],
   "source": [
    "user_logs_updated.head()"
   ]
  },
  {
   "cell_type": "code",
   "execution_count": null,
   "id": "deab7ef8-9c36-49b3-be91-9f4a423a009f",
   "metadata": {},
   "outputs": [],
   "source": [
    "user_logs_updated.shape"
   ]
  },
  {
   "cell_type": "code",
   "execution_count": null,
   "id": "5215f2b8-3cd0-4c3e-811c-db724620a1ed",
   "metadata": {},
   "outputs": [],
   "source": [
    "transactions_updated = transactions.append(march_transactions)\n",
    "transactions_updated.shape"
   ]
  },
  {
   "cell_type": "code",
   "execution_count": null,
   "id": "dcbacaaa-50b4-4a2b-acfb-28c77e0e590d",
   "metadata": {},
   "outputs": [],
   "source": [
    "def get_new_data_appended(new_data_directory, start_data, end_date):\n",
    "    members_n, user_logs_n, transactions_n, train_n  = utils.load_data( [\n",
    "                                                            f\"{new_data_directory}members_profile_new.csv\",\n",
    "                                                            f\"{new_data_directory}user_logs_new.csv\",\n",
    "                                                            f\"{new_data_directory}transactions_logs_new.csv\",\n",
    "                                                            f\"{new_data_directory}churn_logs_new.csv\"\n",
    "                                                            ]\n",
    "                                                          )\n",
    "    \n",
    "    #get the list of memebers fron historical data. This assumes, no new user has been added in the system. Shouldn't be done, when new users are added\n",
    "    members_list = np.unique(list(members['msno']))\n",
    "    train_members_list = np.unique(list(train['msno']))\n",
    "    \n",
    "    #Some Date Filters are manual at this point for sanity check \n",
    "    user_logs_n['date'] = utils.fix_time_in_df(user_logs_n, 'date', expand=False)\n",
    "    march_user_logs = user_logs_n[(user_logs_n['date']>start_data) & \n",
    "            (user_logs_n['date']<end_date) &\n",
    "            (user_logs_n['msno'].isin(members_list)) & \n",
    "            (user_logs_n['msno'].isin(train_members_list))]\n",
    "    \n",
    "    transactions_n['transaction_date'] = utils.fix_time_in_df(transactions_n, 'transaction_date', expand=False)\n",
    "    transactions_n['membership_expire_date'] = utils.fix_time_in_df(transactions_n, 'membership_expire_date', expand=False)\n",
    "    march_transactions = transactions_n[(transactions_n['transaction_date']>start_data) & \n",
    "               (transactions_n['transaction_date']<end_date) & \n",
    "               (transactions_n['membership_expire_date']<'2017-12-31') & \n",
    "               (transactions_n['msno'].isin(members_list)) & \n",
    "               (transactions_n['msno'].isin(train_members_list))]\n",
    "\n",
    "    \n",
    "    return march_user_logs, march_transactions"
   ]
  },
  {
   "cell_type": "code",
   "execution_count": null,
   "id": "2f378805-4840-449d-8c7e-8c1017a3d54d",
   "metadata": {},
   "outputs": [],
   "source": [
    "%%time\n",
    "start_data = '2017-03-01'\n",
    "end_date = '2017-03-31'\n",
    "new_data_directory = root_folder+\"data/new/\"\n",
    "\n",
    "a,b = get_new_data_appended(new_data_directory, start_data, end_date)"
   ]
  },
  {
   "cell_type": "code",
   "execution_count": null,
   "id": "0fc1005b-6c10-443b-9bb2-b21fbe6c8a28",
   "metadata": {},
   "outputs": [],
   "source": [
    "members_n.head()"
   ]
  },
  {
   "cell_type": "code",
   "execution_count": null,
   "id": "ddbf3515-2499-4a19-bb7a-2e208eb423e8",
   "metadata": {},
   "outputs": [],
   "source": [
    "def get_change(current, previous):\n",
    "    if current == previous:\n",
    "        return 0\n",
    "    try:\n",
    "        return (abs(current - previous) / previous) * 100.0\n",
    "    except ZeroDivisionError:\n",
    "        return float('inf')\n",
    "    \n",
    "def get_data_drift(current_data, old_data, column_list,exclude_list, metric='std'):\n",
    "    std_deviation_percentage = []\n",
    "    mean_deviation_percentage = []\n",
    "    for eachCol in column_list:\n",
    "        if metric == 'std' and eachCol not in exclude_list:\n",
    "            std1 = current_data[eachCol].std()\n",
    "            std2 = old_data[eachCol].std()\n",
    "            std_deviation_percentage.append(get_change(std1, std2))\n",
    "        elif metric =='mean'and eachCol not in exclude_list:\n",
    "            mean1 = current_data[eachCol].mean()\n",
    "            mean2 = old_data[eachCol].mean()\n",
    "            mean_deviation_percentage.append(get_change(mean1, mean2))\n",
    "    print(std_deviation_percentage,mean_deviation_percentage)\n",
    "    return np.mean(std_deviation_percentage), np.mean(mean_deviation_percentage)"
   ]
  },
  {
   "cell_type": "code",
   "execution_count": null,
   "id": "6a7ae754-6ad2-49ae-bab0-e8daebbea054",
   "metadata": {},
   "outputs": [],
   "source": [
    "column_list = list(user_logs.select_dtypes(include=['int','float']).columns)\n",
    "print(column_list)\n",
    "get_data_drift(user_logs_n, user_logs, column_list,exclude_list= ['date'], metric='std')"
   ]
  },
  {
   "cell_type": "code",
   "execution_count": null,
   "id": "b2348da8-928f-41d6-be96-8c1ed10e01f5",
   "metadata": {},
   "outputs": [],
   "source": [
    "column_list = list(user_logs.select_dtypes(include=['int','float']).columns)\n",
    "print(column_list)\n",
    "get_data_drift(user_logs_n, user_logs, column_list,exclude_list= ['date'], metric='mean')"
   ]
  },
  {
   "cell_type": "code",
   "execution_count": null,
   "id": "47b33c4d-3d43-400c-bc04-e014956e8d6f",
   "metadata": {},
   "outputs": [],
   "source": [
    "column_list = list(transactions.select_dtypes(include=['int','float']).columns)\n",
    "print(column_list)\n",
    "get_data_drift(transactions_n, transactions, column_list,exclude_list= ['transaction_date','membership_expire_date'], metric='std')"
   ]
  },
  {
   "cell_type": "code",
   "execution_count": null,
   "id": "28bbf00a-c9fd-4bbe-a2d3-b8c1b2603753",
   "metadata": {},
   "outputs": [],
   "source": [
    "column_list = list(transactions.select_dtypes(include=['int','float']).columns)\n",
    "print(column_list)\n",
    "get_data_drift(transactions_n, transactions, column_list,exclude_list= ['transaction_date','membership_expire_date'], metric='mean')"
   ]
  },
  {
   "cell_type": "code",
   "execution_count": null,
   "id": "056a413f-0e8a-405a-83cc-8cce167e4013",
   "metadata": {},
   "outputs": [],
   "source": []
  },
  {
   "cell_type": "code",
   "execution_count": null,
   "id": "534aff94-b4d3-43e6-a804-6ec8320f2a92",
   "metadata": {},
   "outputs": [],
   "source": [
    "def get_new_data_appended(new_data_directory, start_data, end_date):\n",
    "    members_n, user_logs_n, transactions_n, train_n  = utils.load_data( [\n",
    "                                                            f\"{new_data_directory}members_profile_new.csv\",\n",
    "                                                            f\"{new_data_directory}user_logs_new.csv\",\n",
    "                                                            f\"{new_data_directory}transactions_logs_new.csv\",\n",
    "                                                            f\"{new_data_directory}churn_logs_new.csv\"\n",
    "                                                            ]\n",
    "                                                          )\n",
    "    \n",
    "    #get the list of memebers fron historical data. This assumes, no new user has been added in the system. Shouldn't be done, when new users are added\n",
    "    members_list = np.unique(list(members['msno']))\n",
    "    train_members_list = np.unique(list(train['msno']))\n",
    "    \n",
    "    #Some Date Filters are manual at this point for sanity check \n",
    "    user_logs_n['date'] = utils.fix_time_in_df(user_logs_n, 'date', expand=False)\n",
    "    march_user_logs = user_logs_n[(user_logs_n['date']>start_data) & \n",
    "            (user_logs_n['date']<end_date) &\n",
    "            (user_logs_n['msno'].isin(members_list)) & \n",
    "            (user_logs_n['msno'].isin(train_members_list))]\n",
    "    \n",
    "    transactions_n['transaction_date'] = utils.fix_time_in_df(transactions_n, 'transaction_date', expand=False)\n",
    "    transactions_n['membership_expire_date'] = utils.fix_time_in_df(transactions_n, 'membership_expire_date', expand=False)\n",
    "    march_transactions = transactions_n[(transactions_n['transaction_date']>start_data) & \n",
    "               (transactions_n['transaction_date']<end_date) & \n",
    "               (transactions_n['membership_expire_date']<'2017-12-31') & \n",
    "               (transactions_n['msno'].isin(members_list)) & \n",
    "               (transactions_n['msno'].isin(train_members_list))]\n",
    "\n",
    "    \n",
    "    return march_user_logs, march_transactions"
   ]
  },
  {
   "cell_type": "code",
   "execution_count": null,
   "id": "5a2bb6b5-09e0-47e1-b8c0-57e14c85629c",
   "metadata": {},
   "outputs": [],
   "source": [
    "# Declare Default arguments for the DAG\n",
    "default_args = {\n",
    "    'owner': 'CharlieThomas',\n",
    "    'depends_on_past': False,\n",
    "    'start_date': days_ago(2),\n",
    "    'provide_context': True\n",
    "}\n",
    "\n",
    "\n",
    "# creating a new dag\n",
    "dag = DAG('Model_Building_Pipeline', default_args=default_args, schedule_interval='0 0 * * 2', max_active_runs=1,tags=['ml_pipeline'])\n",
    "\n",
    "# Integrating different operatortasks in airflow dag\n",
    "\n",
    "op_reset_processes_flags = PythonOperator(task_id='reset_processes_flag',\n",
    "                                         python_callable=get_flush_db_process_flags,\n",
    "                                         op_kwargs={'db_path': db_path,'drfit_db_name':drfit_db_name},\n",
    "                                         dag=dag)\n",
    "\n",
    "\n",
    "op_create_db = PythonOperator(task_id='create_check_db', \n",
    "                            python_callable=build_dbs,\n",
    "                            op_kwargs={'db_path': db_path, 'db_file_name': db_file_name},\n",
    "                            dag=dag)\n",
    "\n",
    "\n",
    "op_load_data = PythonOperator(task_id='load_data', \n",
    "                                python_callable=load_data_from_source,\n",
    "                                  op_kwargs={'db_path': db_path, 'db_file_name': db_file_name,\n",
    "                                             'drfit_db_name':drfit_db_name,\n",
    "                                             'old_data_directory':old_data_directory,\n",
    "                                             'new_data_directory':new_data_directory,\n",
    "                                            'run_on':run_on,\n",
    "                                              'start_date':start_date,\n",
    "                                             'end_date':end_date},\n",
    "                              dag=dag)\n",
    "    \n",
    "\n",
    "op_process_transactions = PythonOperator(task_id='process_transactions',\n",
    "                                         python_callable=get_membership_data_transform,\n",
    "                                         op_kwargs={'db_path': db_path, 'db_file_name': db_file_name,\n",
    "                                             'drfit_db_name':drfit_db_name},\n",
    "                                         dag=dag)\n",
    "\n",
    "op_process_members = PythonOperator(task_id='process_members', \n",
    "                                    python_callable=get_transaction_data_transform,\n",
    "                                    op_kwargs={'db_path': db_path, 'db_file_name': db_file_name,\n",
    "                                             'drfit_db_name':drfit_db_name},\n",
    "                                    dag=dag)\n",
    "\n",
    "op_process_userlogs = PythonOperator(task_id='process_userlogs',\n",
    "                                    python_callable=get_user_data_transform,\n",
    "                                    op_kwargs={'db_path': db_path, 'db_file_name': db_file_name,\n",
    "                                             'drfit_db_name':drfit_db_name},\n",
    "                                    dag=dag)\n",
    "\n",
    "op_merge = PythonOperator(task_id='merge_data',\n",
    "                        python_callable=get_final_data_merge,\n",
    "                        op_kwargs={'db_path': db_path, 'db_file_name': db_file_name,\n",
    "                                             'drfit_db_name':drfit_db_name},\n",
    "                        dag=dag)\n",
    "\n",
    "\n",
    "op_process_data = PythonOperator(task_id='data_preparation', \n",
    "                            python_callable=get_data_prepared_for_modeling,\n",
    "                            op_kwargs={'db_path': db_path,\n",
    "                                       'db_file_name': db_file_name,\n",
    "                                       'drfit_db_name':drfit_db_name,\n",
    "                                       'date_columns':date_columns,\n",
    "                                       'date_transformation':date_transformation\n",
    "                                      },\n",
    "                            dag=dag)\n",
    "\n",
    "op_model_training_with_tuning = PythonOperator(task_id='Model_Training_hpTunning', \n",
    "                            python_callable=get_train_model_hptune,\n",
    "                            op_kwargs={'db_path': db_path, 'db_file_name': db_file_name,'drfit_db_name':drfit_db_name},\n",
    "                            dag=dag)\n",
    "\n",
    "\n",
    "timestamp = datetime.now().strftime(\"%Y-%m-%d %H:%M:%S\")\n",
    "send_email = EmailOperator( task_id='send_email', \n",
    "                                to='charliethomasctg@gmail.com', \n",
    "                                subject='Model Building Pipeline Execution Finished', \n",
    "                                html_content=f\"The execution of Model Building pipeline is finished @ {timestamp}. Check Airflow Logs for more details or check MLFLOW for Final Model\", \n",
    "                                dag=dag)\n",
    "\n",
    "\n",
    "\n",
    "\n",
    "# Set the task sequence\n",
    "op_reset_processes_flags.set_downstream(op_create_db)\n",
    "op_create_db.set_downstream(op_load_data)\n",
    "op_load_data.set_downstream([op_process_members,op_process_userlogs,op_process_transactions])\n",
    "op_process_members.set_downstream(op_merge)\n",
    "op_process_userlogs.set_downstream(op_merge)\n",
    "op_process_transactions.set_downstream(op_merge)\n",
    "op_merge.set_downstream(op_process_data)\n",
    "op_process_data.set_downstream(op_model_training_with_tuning)\n",
    "op_model_training_with_tuning.set_downstream(send_email)\n",
    "\n"
   ]
  },
  {
   "cell_type": "code",
   "execution_count": null,
   "id": "4a1fa869-e9c5-43e3-8f78-6f48d3c0f7a7",
   "metadata": {},
   "outputs": [],
   "source": []
  },
  {
   "cell_type": "code",
   "execution_count": null,
   "id": "57957ea5-bfb2-4b49-86bf-05a0c70b79c8",
   "metadata": {},
   "outputs": [],
   "source": []
  },
  {
   "cell_type": "code",
   "execution_count": null,
   "id": "a89e16b1-d93a-49c1-b56d-8373b05c69f2",
   "metadata": {},
   "outputs": [],
   "source": []
  },
  {
   "cell_type": "code",
   "execution_count": null,
   "id": "7a680f90-393f-4137-b600-4238fa67f73a",
   "metadata": {},
   "outputs": [],
   "source": []
  },
  {
   "cell_type": "code",
   "execution_count": null,
   "id": "13259987-b28c-4f5d-b0c0-4e2b0af16894",
   "metadata": {},
   "outputs": [],
   "source": []
  }
 ],
 "metadata": {
  "kernelspec": {
   "display_name": "Python 3",
   "language": "python",
   "name": "python3"
  },
  "language_info": {
   "codemirror_mode": {
    "name": "ipython",
    "version": 3
   },
   "file_extension": ".py",
   "mimetype": "text/x-python",
   "name": "python",
   "nbconvert_exporter": "python",
   "pygments_lexer": "ipython3",
   "version": "3.11.9"
  }
 },
 "nbformat": 4,
 "nbformat_minor": 5
}
